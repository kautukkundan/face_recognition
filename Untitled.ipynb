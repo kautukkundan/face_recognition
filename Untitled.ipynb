{
 "cells": [
  {
   "cell_type": "code",
   "execution_count": 3,
   "metadata": {},
   "outputs": [
    {
     "data": {
      "text/plain": [
       "'\\nknown_face_names = [\\n    \"Chetan Madan\",\\n    \"Joe Biden\"\\n]\\n\\n'"
      ]
     },
     "execution_count": 3,
     "metadata": {},
     "output_type": "execute_result"
    }
   ],
   "source": [
    "import face_recognition\n",
    "import cv2\n",
    "import pandas as pd\n",
    "import numpy as np\n",
    "\n",
    "# This is a demo of running face recognition on live video from your webcam. It's a little more complicated than the\n",
    "# other example, but it includes some basic performance tweaks to make things run a lot faster:\n",
    "#   1. Process each video frame at 1/4 resolution (though still display it at full resolution)\n",
    "#   2. Only detect faces in every other frame of video.\n",
    "\n",
    "# PLEASE NOTE: This example requires OpenCV (the `cv2` library) to be installed only to read from your webcam.\n",
    "# OpenCV is *not* required to use the face_recognition library. It's only required if you want to run this\n",
    "# specific demo. If you have trouble installing it, try any of the other demos that don't require it instead.\n",
    "\n",
    "# Get a reference to webcam #0 (the default one)\n",
    "\n",
    "\n",
    "\n",
    "# Create arrays of known face encodings and their names\n",
    "known_face=[]\n",
    "known_face_names=[]\n",
    "known_face=pd.read_csv(\"names\", header=None).values\n",
    "#print((known_face[0][0]))\n",
    "for i in range(len(known_face)):\n",
    "    known_face_names=np.append(known_face_names,known_face[i][0])\n",
    "\"\"\"\n",
    "known_face_names = [\n",
    "    \"Chetan Madan\",\n",
    "    \"Joe Biden\"\n",
    "]\n",
    "\n",
    "\"\"\"\n",
    "# Load a sample picture and learn how to recognize it.\n",
    "#obama_image = face_recognition.load_image_file(\"known/Chetan Madan.jpg\")\n"
   ]
  },
  {
   "cell_type": "code",
   "execution_count": 2,
   "metadata": {},
   "outputs": [
    {
     "data": {
      "text/plain": [
       "array(['Chetan Madan', 'Barack Obama', 'Joe Biden', 'Kit Harrington',\n",
       "       'Rose Leslie'], dtype='<U32')"
      ]
     },
     "execution_count": 2,
     "metadata": {},
     "output_type": "execute_result"
    }
   ],
   "source": [
    "known_face_names"
   ]
  },
  {
   "cell_type": "code",
   "execution_count": null,
   "metadata": {},
   "outputs": [],
   "source": []
  },
  {
   "cell_type": "code",
   "execution_count": 11,
   "metadata": {},
   "outputs": [
    {
     "data": {
      "text/plain": [
       "128"
      ]
     },
     "execution_count": 11,
     "metadata": {},
     "output_type": "execute_result"
    }
   ],
   "source": [
    "len(df)"
   ]
  },
  {
   "cell_type": "code",
   "execution_count": 40,
   "metadata": {},
   "outputs": [
    {
     "name": "stdout",
     "output_type": "stream",
     "text": [
      "Chetan Madan 1\n",
      "Barack Obama 2\n",
      "Joe Biden 3\n",
      "Kit Harrington 4\n",
      "Rose Leslie 5\n"
     ]
    }
   ],
   "source": [
    "known_face_encodings=[[]]\n",
    "known_face_encoding=[[]]\n",
    "face_encoding=[]\n",
    "i=0\n",
    "for name in known_face_names:\n",
    "    i+=1\n",
    "    print(name,i)\n",
    "    \n",
    "    file_name=\"known/\"+name+\".jpg\"\n",
    "    img_file=face_recognition.load_image_file(str(file_name))\n",
    "    df=face_recognition.face_encodings(img_file)[0]\n",
    "    known_face_encoding=np.append(known_face_encoding,df)\n",
    "    \n",
    "known_face_encodings=known_face_encoding.reshape(-1,128)\n",
    "    #known_face_encodings=np.append(known_face_encodings,known_face_encoding)\n",
    "#obama_face_encoding = face_recognition.face_encodings(face_recognition.load_image_file(\"known/Chetan Madan.jpg\"))[0]\n",
    "i=0"
   ]
  },
  {
   "cell_type": "markdown",
   "metadata": {},
   "source": [
    "for name in known_face_names:\n",
    "    known_face_encodings=np.append(known_face_encodings, known_face_encoding[i])\n",
    "    \n",
    "        \n",
    "        \n",
    "# Load a second sample picture and learn how to recognize it.\n",
    "biden_image = face_recognition.load_image_file(\"known/Saksham Madan.jpg\")\n",
    "biden_face_encoding = face_recognition.face_encodings(biden_image)[0]\n",
    "\n",
    "known_face_encodings=known_face_encoding"
   ]
  },
  {
   "cell_type": "markdown",
   "metadata": {},
   "source": [
    "known_face_encodings = [\n",
    "    \n",
    "    biden_face_encoding\n",
    "]"
   ]
  },
  {
   "cell_type": "code",
   "execution_count": 42,
   "metadata": {},
   "outputs": [
    {
     "data": {
      "text/plain": [
       "5"
      ]
     },
     "execution_count": 42,
     "metadata": {},
     "output_type": "execute_result"
    }
   ],
   "source": [
    "len(known_face_encodings)\n",
    "#len(biden_face_encoding)\n"
   ]
  },
  {
   "cell_type": "code",
   "execution_count": 43,
   "metadata": {},
   "outputs": [
    {
     "data": {
      "text/plain": [
       "array([[-1.56866178e-01,  9.90657657e-02,  8.40200111e-02,\n",
       "        -3.96129303e-02,  1.02376146e-02, -6.65539131e-02,\n",
       "        -5.54838479e-02, -1.00803189e-02,  1.50576428e-01,\n",
       "        -1.00910187e-01,  1.38511539e-01, -3.64689305e-02,\n",
       "        -2.29986563e-01, -9.80427638e-02, -7.86305368e-02,\n",
       "         5.58509231e-02, -1.33556694e-01, -1.30557418e-01,\n",
       "        -5.38878776e-02, -6.80765808e-02,  6.77479357e-02,\n",
       "         5.77422604e-02,  5.09392209e-02, -1.81919578e-02,\n",
       "        -1.46915331e-01, -3.66360575e-01, -1.07066318e-01,\n",
       "        -7.96967298e-02, -1.42038800e-02, -6.49760813e-02,\n",
       "         3.62254307e-02,  1.96116529e-02, -2.13116542e-01,\n",
       "        -4.97845002e-02, -4.64241132e-02,  4.50204611e-02,\n",
       "         2.33846363e-02,  5.58133572e-02,  1.23946972e-01,\n",
       "        -6.66227425e-03, -1.53268129e-01, -3.15514356e-02,\n",
       "         4.50311750e-02,  2.98041999e-01,  1.60297766e-01,\n",
       "         1.38884574e-01, -5.62471114e-02, -4.21307385e-02,\n",
       "         6.95306510e-02, -2.26391748e-01,  9.67435613e-02,\n",
       "         1.41804576e-01,  2.48244163e-02,  4.43994477e-02,\n",
       "         9.71635506e-02, -5.80523983e-02,  2.13390104e-02,\n",
       "         1.00671507e-01, -1.92996785e-01,  5.73979616e-02,\n",
       "        -2.77874433e-03, -3.82602066e-02,  1.89617909e-02,\n",
       "        -1.09882280e-02,  1.76054299e-01,  5.79792485e-02,\n",
       "        -7.92170912e-02, -1.08131766e-01,  1.43522114e-01,\n",
       "        -2.27375180e-01,  3.09478194e-02,  1.00591071e-01,\n",
       "        -1.70672014e-02, -1.47656962e-01, -2.64797032e-01,\n",
       "         5.14486767e-02,  4.23156917e-01,  1.47786155e-01,\n",
       "        -3.70470956e-02,  7.20210448e-02, -9.33117419e-02,\n",
       "        -1.05476148e-01,  8.60279500e-02,  6.99099153e-03,\n",
       "        -1.41427264e-01,  3.92599106e-02, -8.79887938e-02,\n",
       "         5.50045073e-02,  2.03541413e-01,  4.33898717e-02,\n",
       "        -6.76800385e-02,  1.87894046e-01, -6.58412464e-03,\n",
       "         3.59060541e-02,  4.78925854e-02, -1.06509654e-02,\n",
       "        -1.03374578e-01,  1.68326255e-02, -1.27208292e-01,\n",
       "         1.94901265e-02,  7.88779184e-03, -9.51899961e-02,\n",
       "        -3.13749686e-02,  5.97143546e-02, -1.01526856e-01,\n",
       "         9.03609768e-02,  3.87884080e-02, -3.45918164e-02,\n",
       "        -2.09835395e-02,  9.94480252e-02, -1.45645410e-01,\n",
       "        -1.10800751e-01,  1.02815062e-01, -2.39098787e-01,\n",
       "         1.50833249e-01,  1.37137845e-01,  5.11827320e-02,\n",
       "         1.68727994e-01,  8.85348767e-02,  6.63174838e-02,\n",
       "         5.53981960e-03, -2.23730914e-02, -8.77920091e-02,\n",
       "        -7.18737468e-02,  7.50241578e-02, -4.49669827e-03,\n",
       "         1.32401958e-01,  3.88831869e-02],\n",
       "       [-9.14343968e-02,  1.30860955e-01,  1.31438542e-02,\n",
       "        -5.78844547e-02,  1.62896495e-02,  4.13265079e-04,\n",
       "        -8.46985132e-02, -9.90052372e-02,  1.79895908e-01,\n",
       "        -1.05396785e-01,  2.45602235e-01,  8.05931464e-02,\n",
       "        -2.16114700e-01, -1.34867206e-01,  4.74246070e-02,\n",
       "         1.20567881e-01, -1.63675129e-01, -7.82602206e-02,\n",
       "        -1.12246901e-01, -1.06101245e-01,  3.65294777e-02,\n",
       "         6.34993799e-03,  1.05337016e-01,  4.30056527e-02,\n",
       "        -1.21176735e-01, -3.36291492e-01, -6.97464347e-02,\n",
       "        -1.82180732e-01, -1.58545468e-03, -1.12083204e-01,\n",
       "        -9.65674296e-02, -2.05919910e-02, -1.81940094e-01,\n",
       "        -1.09141104e-01,  2.07322091e-02, -2.02212855e-02,\n",
       "         2.40956596e-03, -3.74015421e-03,  2.04740167e-01,\n",
       "         2.82058008e-02, -1.16324268e-01,  9.63283330e-02,\n",
       "         1.54797612e-02,  2.13183537e-01,  2.86299378e-01,\n",
       "         7.69229829e-02, -1.18061770e-02, -9.91305485e-02,\n",
       "         1.03861779e-01, -2.16335163e-01,  7.27405250e-02,\n",
       "         1.42900631e-01,  8.23793337e-02,  4.23879698e-02,\n",
       "         9.76962820e-02, -1.88522831e-01,  3.60183418e-03,\n",
       "         8.83442461e-02, -1.41434893e-01,  8.37215967e-03,\n",
       "         7.88719952e-03, -8.10269266e-02, -4.03549597e-02,\n",
       "         3.87957990e-02,  2.05947325e-01,  9.96595621e-02,\n",
       "        -1.22929104e-01, -5.09444177e-02,  1.32112682e-01,\n",
       "        -2.90013943e-02,  2.44515277e-02,  2.43440419e-02,\n",
       "        -1.84313342e-01, -2.00633690e-01, -2.27740392e-01,\n",
       "         9.29382294e-02,  3.73451978e-01,  1.93598062e-01,\n",
       "        -2.08811805e-01,  1.95576549e-02, -1.95999995e-01,\n",
       "         2.41531469e-02,  6.10561892e-02,  8.19598138e-03,\n",
       "        -7.17445239e-02, -1.35385051e-01, -4.11863774e-02,\n",
       "         5.28218225e-02,  8.22656974e-02,  3.20851356e-02,\n",
       "        -4.09889892e-02,  2.15069756e-01, -3.38280648e-02,\n",
       "         6.23677596e-02,  1.85362119e-02,  5.68222553e-02,\n",
       "        -1.58387557e-01, -3.17049474e-02, -1.60152271e-01,\n",
       "        -6.84506297e-02,  1.40415747e-02, -4.20365259e-02,\n",
       "         3.08533125e-02,  1.47816390e-01, -2.32432976e-01,\n",
       "         5.92193566e-02,  4.18688357e-03, -4.66676615e-02,\n",
       "         2.22912952e-02,  7.02252090e-02, -2.72173472e-02,\n",
       "        -3.37382369e-02,  5.81421442e-02, -2.38168046e-01,\n",
       "         2.48890564e-01,  2.34034687e-01,  2.49546058e-02,\n",
       "         1.73279375e-01,  7.22587332e-02,  3.39428671e-02,\n",
       "        -1.63795743e-02, -2.26780847e-02, -1.82298481e-01,\n",
       "        -6.45941123e-02,  6.04679734e-02,  7.55231977e-02,\n",
       "         8.52314979e-02,  6.71965070e-03],\n",
       "       [ 2.12624157e-03,  1.81517065e-01,  8.94295275e-02,\n",
       "        -2.89067626e-02, -1.32269412e-01,  4.05392163e-02,\n",
       "        -3.35121118e-02, -7.74617791e-02,  5.41248620e-02,\n",
       "        -5.69068119e-02,  2.41831228e-01, -5.40280454e-02,\n",
       "        -2.57435620e-01, -5.15736416e-02,  6.13831989e-02,\n",
       "         1.26057655e-01, -1.49462789e-01, -6.55280352e-02,\n",
       "        -2.01025650e-01, -6.23563938e-02, -1.10337958e-02,\n",
       "        -4.10016850e-02,  2.59371586e-02, -7.27257058e-02,\n",
       "        -2.06620783e-01, -2.35338822e-01, -4.71209250e-02,\n",
       "        -1.02282710e-01, -2.78948769e-02, -1.62439123e-01,\n",
       "         7.82421529e-02, -3.08439676e-02, -1.44417167e-01,\n",
       "        -5.16424403e-02, -4.71012108e-02, -2.98583638e-02,\n",
       "        -1.72282569e-02, -5.84734045e-02,  1.31544515e-01,\n",
       "         2.62633264e-02, -1.78922936e-01,  1.30259126e-01,\n",
       "         7.33512919e-03,  2.15872169e-01,  2.94748187e-01,\n",
       "        -5.23587503e-03,  4.71701548e-02, -8.85355920e-02,\n",
       "         1.36262491e-01, -2.41818711e-01,  5.43732531e-02,\n",
       "         3.49896550e-02,  1.68070704e-01,  5.76979853e-02,\n",
       "         1.42444178e-01, -7.31723905e-02,  2.39222609e-02,\n",
       "         1.89729020e-01, -2.00625077e-01,  3.73767316e-02,\n",
       "         5.04388213e-02, -5.48214987e-02,  3.41149345e-02,\n",
       "        -4.34924103e-02,  1.23014674e-01,  1.10242173e-01,\n",
       "        -9.77706444e-03, -9.03620720e-02,  1.93691209e-01,\n",
       "        -9.51979160e-02, -1.12772316e-01,  3.07875983e-02,\n",
       "        -6.61623627e-02, -1.27721772e-01, -3.35262597e-01,\n",
       "         1.07875094e-03,  2.70364583e-01,  1.36021629e-01,\n",
       "        -2.96111047e-01, -7.56229684e-02, -4.54919934e-02,\n",
       "         5.18060522e-03,  3.36943716e-02,  8.34187679e-03,\n",
       "        -3.43006216e-02, -1.36925742e-01, -5.48876524e-02,\n",
       "        -1.43755171e-02,  2.43736267e-01, -1.09358706e-01,\n",
       "         7.04369601e-03,  2.23734200e-01,  4.80217189e-02,\n",
       "        -1.48441613e-01,  5.57118766e-02, -3.59313786e-02,\n",
       "        -1.17851928e-01, -1.51064917e-02, -1.17692322e-01,\n",
       "        -5.19177318e-02, -2.26258431e-02, -1.58782512e-01,\n",
       "        -3.00800614e-02,  6.65702000e-02, -2.62411803e-01,\n",
       "         1.64025962e-01, -1.41735896e-02, -7.98699558e-02,\n",
       "        -5.63172884e-02, -4.09215838e-02,  1.24471569e-02,\n",
       "         6.57645911e-02,  2.29071036e-01, -2.49987856e-01,\n",
       "         2.01073289e-01,  2.28181705e-01, -5.75940162e-02,\n",
       "         7.73168281e-02,  1.20653566e-02,  6.27090335e-02,\n",
       "        -3.90425175e-02,  3.57297286e-02, -8.62085521e-02,\n",
       "        -1.32854417e-01, -4.30030935e-03, -2.12346427e-02,\n",
       "         9.61275306e-03,  6.67775571e-02],\n",
       "       [-7.46945441e-02,  1.95815846e-01,  1.02306291e-01,\n",
       "        -4.24800068e-02, -7.61160478e-02, -3.97090390e-02,\n",
       "        -1.16267681e-01, -4.65616696e-02,  9.43199992e-02,\n",
       "        -1.34273559e-01,  2.06194982e-01, -8.27904716e-02,\n",
       "        -2.74813175e-01, -1.17274232e-01,  5.66144213e-02,\n",
       "         1.22231677e-01, -5.83079308e-02, -9.47568715e-02,\n",
       "        -8.89186561e-02, -1.13813438e-01,  3.11855897e-02,\n",
       "         7.90438503e-02,  4.64185886e-02,  5.15737012e-02,\n",
       "        -6.95570707e-02, -4.15590405e-01, -7.32648000e-02,\n",
       "        -6.01239838e-02, -1.98721737e-02, -1.10273942e-01,\n",
       "        -9.35043953e-03,  1.29411370e-01, -1.18704602e-01,\n",
       "        -6.58739209e-02,  3.24311778e-02,  1.45726308e-01,\n",
       "        -7.14075714e-02, -4.97136861e-02,  1.80191398e-01,\n",
       "        -2.29868777e-02, -1.01890489e-01, -5.02060354e-03,\n",
       "         9.31994841e-02,  2.43380874e-01,  1.75546527e-01,\n",
       "         6.10101707e-02,  5.36482409e-02, -1.89006180e-02,\n",
       "         1.83977664e-01, -1.86565340e-01,  1.08510233e-01,\n",
       "         1.42132789e-01,  1.34126201e-01,  1.19891390e-01,\n",
       "         2.01636389e-01, -1.29177198e-01,  5.10966256e-02,\n",
       "         1.79863542e-01, -1.93550348e-01,  7.08281845e-02,\n",
       "         1.38287572e-03, -7.66003504e-02, -3.87322977e-02,\n",
       "        -3.05720102e-02,  2.19512299e-01,  6.56989589e-02,\n",
       "        -6.85902834e-02, -1.51429147e-01,  1.86034068e-01,\n",
       "        -9.69727635e-02, -7.34549761e-02,  2.03697413e-01,\n",
       "        -1.22424804e-01, -1.51384115e-01, -1.71171278e-01,\n",
       "         1.15862705e-01,  3.54103118e-01,  1.77318692e-01,\n",
       "        -1.39908046e-01,  1.00094713e-02, -8.46399926e-05,\n",
       "        -1.53242007e-01,  1.53646609e-02,  2.37434208e-02,\n",
       "        -6.36437759e-02, -1.00044698e-01, -8.54166299e-02,\n",
       "         4.83432226e-02,  2.22041398e-01,  5.30437715e-02,\n",
       "        -9.12321061e-02,  2.58723140e-01,  3.11340652e-02,\n",
       "         7.84187987e-02,  9.77350026e-03, -3.80841345e-02,\n",
       "        -1.08553432e-01,  6.91419374e-03, -1.60633802e-01,\n",
       "        -9.48982760e-02,  8.79809037e-02, -1.41911879e-01,\n",
       "        -1.19543761e-01,  2.61000153e-02, -1.84593230e-01,\n",
       "         1.56678021e-01, -1.69276372e-02,  4.36719581e-02,\n",
       "        -4.60774973e-02,  2.83824615e-02, -1.75229132e-01,\n",
       "         6.95210919e-02,  1.77931517e-01, -2.94161141e-01,\n",
       "         1.98257193e-01,  1.22021750e-01,  1.07290737e-01,\n",
       "         1.27381191e-01,  9.98003557e-02,  2.21546888e-02,\n",
       "         1.23760641e-01, -1.83521554e-01, -1.50751293e-01,\n",
       "        -1.58342957e-01,  1.51884317e-01,  3.76214320e-03,\n",
       "         5.01934849e-02,  5.23248725e-02],\n",
       "       [-1.95107106e-02,  5.08195497e-02,  1.41837984e-01,\n",
       "        -2.05289982e-02, -1.27692461e-01, -8.52838531e-02,\n",
       "         5.86397201e-02, -3.05779427e-02,  1.43178523e-01,\n",
       "        -2.39956193e-02,  1.91240638e-01,  8.51328000e-02,\n",
       "        -2.86780596e-01, -5.36207631e-02,  5.00915051e-02,\n",
       "         1.71011716e-01, -6.78334162e-02, -8.37503076e-02,\n",
       "        -9.14619863e-02, -7.16154575e-02,  1.13154747e-01,\n",
       "         6.22816533e-02,  9.44951773e-02,  1.27090991e-01,\n",
       "        -2.04257280e-01, -2.42480576e-01, -5.87211698e-02,\n",
       "        -1.58411823e-03, -7.51327127e-02, -1.02667972e-01,\n",
       "        -2.03466918e-02,  1.62130266e-01, -1.54926330e-01,\n",
       "        -1.62071493e-02,  1.17518052e-01,  1.09117016e-01,\n",
       "        -2.50154715e-02, -9.85250026e-02,  2.22965792e-01,\n",
       "         2.91365422e-02, -2.26133674e-01,  1.13750650e-02,\n",
       "         5.79428412e-02,  1.85710073e-01,  2.13101119e-01,\n",
       "        -1.42098162e-02,  1.21151939e-01, -4.68855463e-02,\n",
       "         1.49664238e-01, -3.30836445e-01,  2.70950459e-02,\n",
       "         1.45820990e-01,  1.90154221e-02,  2.22418029e-02,\n",
       "         9.79307964e-02, -1.77334607e-01, -4.29371372e-03,\n",
       "         1.89303413e-01, -2.72114515e-01,  6.91867527e-03,\n",
       "         6.40466884e-02, -1.83637202e-01, -8.18508714e-02,\n",
       "        -1.10238872e-01,  1.03703894e-01,  1.05403982e-01,\n",
       "        -1.55726865e-01, -1.78996265e-01,  1.54473603e-01,\n",
       "        -2.22430259e-01, -4.12149429e-02,  2.07693428e-01,\n",
       "        -1.19575463e-01, -2.02473164e-01, -2.37558693e-01,\n",
       "         4.23914418e-02,  3.73327672e-01,  2.18404710e-01,\n",
       "        -1.60909384e-01,  2.48264447e-02, -6.11245893e-02,\n",
       "         6.12262674e-02, -2.51572952e-03,  5.42982630e-02,\n",
       "         1.88114848e-02,  4.95877974e-02, -1.25444755e-01,\n",
       "         6.98409751e-02,  1.81176007e-01,  1.51509140e-02,\n",
       "         1.07602635e-03,  3.07204515e-01,  9.16368365e-02,\n",
       "         2.41691433e-02,  1.56547371e-02,  3.35999355e-02,\n",
       "        -6.72196746e-02, -2.51797773e-02, -1.45446151e-01,\n",
       "         4.00670841e-02, -6.82093799e-02, -6.25292808e-02,\n",
       "         3.85583676e-02,  3.60761210e-02, -1.73175290e-01,\n",
       "         1.62565202e-01, -1.20276026e-01, -5.63538671e-02,\n",
       "        -1.44669637e-01, -7.82291666e-02, -1.33919597e-01,\n",
       "         5.96968569e-02,  7.80134946e-02, -3.55261415e-01,\n",
       "         1.52791545e-01,  1.54611528e-01, -2.83923578e-02,\n",
       "         1.09597273e-01, -2.39856690e-02,  8.48953128e-02,\n",
       "         7.27213360e-03, -1.47979587e-01, -9.38019305e-02,\n",
       "        -9.72062200e-02,  1.15237154e-01, -1.09775454e-01,\n",
       "         1.14232451e-01, -4.19513099e-02]])"
      ]
     },
     "execution_count": 43,
     "metadata": {},
     "output_type": "execute_result"
    }
   ],
   "source": [
    "known_face_encodings\n",
    "#len(biden_face_encoding)"
   ]
  },
  {
   "cell_type": "markdown",
   "metadata": {},
   "source": [
    "for name in known_face_names:\n",
    "    known_face_encodings=np.append(known_face_encodings, known_face_encoding[i])\n",
    "    \n",
    "        \n",
    "        \n",
    "# Load a second sample picture and learn how to recognize it.\n",
    "biden_image = face_recognition.load_image_file(\"known/Saksham Madan.jpg\")\n",
    "biden_face_encoding = face_recognition.face_encodings(biden_image)[0]\n",
    "\"\"\"\n",
    "\n",
    "known_face_encodings = [\n",
    "    \n",
    "    biden_face_encoding\n",
    "]\n",
    "\"\"\""
   ]
  },
  {
   "cell_type": "code",
   "execution_count": 44,
   "metadata": {},
   "outputs": [
    {
     "data": {
      "text/plain": [
       "5"
      ]
     },
     "execution_count": 44,
     "metadata": {},
     "output_type": "execute_result"
    }
   ],
   "source": [
    "len(known_face_encodings)"
   ]
  },
  {
   "cell_type": "code",
   "execution_count": 46,
   "metadata": {},
   "outputs": [],
   "source": [
    "\n",
    "process_this_frame = True\n",
    "video_capture = cv2.VideoCapture(0)\n",
    "\n",
    "\n",
    "while True:\n",
    "    # Grab a single frame of video\n",
    "    ret, frame = video_capture.read()\n",
    "\n",
    "    # Resize frame of video to 1/4 size for faster face recognition processing\n",
    "    small_frame = cv2.resize(frame, (0, 0), fx=0.25, fy=0.25)\n",
    "\n",
    "    # Convert the image from BGR color (which OpenCV uses) to RGB color (which face_recognition uses)\n",
    "    rgb_small_frame = small_frame[:, :, ::-1]\n",
    "\n",
    "    # Only process every other frame of video to save time\n",
    "    if process_this_frame:\n",
    "        # Find all the faces and face encodings in the current frame of video\n",
    "        face_locations = face_recognition.face_locations(rgb_small_frame)\n",
    "        face_encodings = face_recognition.face_encodings(rgb_small_frame, face_locations)\n",
    "\n",
    "        face_names = []\n",
    "        for face_encoding in face_encodings:\n",
    "            # See if the face is a match for the known face(s)\n",
    "            matches = face_recognition.compare_faces(known_face_encodings, face_encoding)\n",
    "            name = \"Unknown\"\n",
    "\n",
    "            # If a match was found in known_face_encodings, just use the first one.\n",
    "            if True in matches:\n",
    "                first_match_index = matches.index(True)\n",
    "                name = known_face_names[first_match_index]\n",
    "\n",
    "            face_names.append(name)\n",
    "\n",
    "    process_this_frame = not process_this_frame\n",
    "\n",
    "\n",
    "    # Display the results\n",
    "    for (top, right, bottom, left), name in zip(face_locations, face_names):\n",
    "        # Scale back up face locations since the frame we detected in was scaled to 1/4 size\n",
    "        top *= 4\n",
    "        right *= 4\n",
    "        bottom *= 4\n",
    "        left *= 4\n",
    "\n",
    "        # Draw a box around the face\n",
    "        cv2.rectangle(frame, (left, top), (right, bottom), (0, 0, 255), 2)\n",
    "\n",
    "        # Draw a label with a name below the face\n",
    "        cv2.rectangle(frame, (left, bottom - 35), (right, bottom), (0, 0, 255), cv2.FILLED)\n",
    "        font = cv2.FONT_HERSHEY_DUPLEX\n",
    "        cv2.putText(frame, name, (left + 6, bottom - 6), font, 1.0, (255, 255, 255), 1)\n",
    "\n",
    "    # Display the resulting image\n",
    "    cv2.imshow('Video', frame)\n",
    "\n",
    "    # Hit 'q' on the keyboard to quit!\n",
    "    if cv2.waitKey(1) & 0xFF == ord('q'):\n",
    "        break\n",
    "\n",
    "# Release handle to the webcam\n",
    "video_capture.release()\n",
    "cv2.destroyAllWindows()\n"
   ]
  },
  {
   "cell_type": "code",
   "execution_count": 30,
   "metadata": {},
   "outputs": [
    {
     "data": {
      "text/plain": [
       "array([-0.10658702,  0.07871789,  0.06387627, -0.02707244, -0.10989921,\n",
       "       -0.03846748,  0.00486214, -0.05600538,  0.061556  ,  0.02549658,\n",
       "        0.1138908 , -0.06421868, -0.25830394, -0.08079948, -0.00140264,\n",
       "        0.09765615, -0.08499089, -0.13567035, -0.09251568, -0.08519084,\n",
       "        0.02915127, -0.02670759,  0.02082366,  0.06665384, -0.13045083,\n",
       "       -0.28524578, -0.08066596, -0.21601564,  0.03619251, -0.06572202,\n",
       "        0.02245322, -0.03576873, -0.1827509 , -0.02551825,  0.00897387,\n",
       "        0.04132542, -0.05564491, -0.11293062,  0.19915105, -0.09940296,\n",
       "       -0.12351929, -0.0279697 ,  0.0897401 ,  0.17051868,  0.12296981,\n",
       "        0.06519302,  0.02370657,  0.03288987,  0.1765434 , -0.26609868,\n",
       "        0.15024692,  0.12021671,  0.09911013,  0.06553491,  0.14837492,\n",
       "       -0.1648026 ,  0.05772755,  0.10795443, -0.2644524 ,  0.06475574,\n",
       "       -0.00373327,  0.02590867, -0.13095914, -0.11685244,  0.19980921,\n",
       "        0.1628122 , -0.13151516, -0.06801502,  0.13578591, -0.2011428 ,\n",
       "        0.02180878,  0.04015593, -0.11601615, -0.10346656, -0.27450803,\n",
       "        0.07513089,  0.40728527,  0.17441742, -0.13249776,  0.02027709,\n",
       "       -0.05518109,  0.02155919, -0.00957828, -0.04032475, -0.15387601,\n",
       "        0.01579142, -0.07212734,  0.01978187,  0.08779016, -0.01544327,\n",
       "       -0.01258977,  0.18565093, -0.02111091,  0.02762618,  0.0025543 ,\n",
       "       -0.01103883, -0.07820296, -0.09938008, -0.02731563,  0.03830475,\n",
       "        0.09419565, -0.12301142,  0.00144833,  0.0499939 , -0.18005475,\n",
       "        0.05529318, -0.00597577,  0.01235696, -0.03097808,  0.06293221,\n",
       "       -0.18796262, -0.02420475,  0.14484257, -0.25994301,  0.20744468,\n",
       "        0.10273543, -0.07528978,  0.08475636,  0.06006167,  0.05923223,\n",
       "       -0.03118701, -0.03174171, -0.13428043, -0.12091849,  0.11611799,\n",
       "       -0.01875727,  0.02732868,  0.06290811])"
      ]
     },
     "execution_count": 30,
     "metadata": {},
     "output_type": "execute_result"
    }
   ],
   "source": [
    "biden_face_encoding"
   ]
  },
  {
   "cell_type": "code",
   "execution_count": 31,
   "metadata": {},
   "outputs": [
    {
     "data": {
      "text/plain": [
       "128"
      ]
     },
     "execution_count": 31,
     "metadata": {},
     "output_type": "execute_result"
    }
   ],
   "source": [
    "len(biden_face_encoding)"
   ]
  },
  {
   "cell_type": "code",
   "execution_count": 35,
   "metadata": {},
   "outputs": [
    {
     "data": {
      "text/plain": [
       "6"
      ]
     },
     "execution_count": 35,
     "metadata": {},
     "output_type": "execute_result"
    }
   ],
   "source": [
    "len(known_face_encodings)"
   ]
  },
  {
   "cell_type": "code",
   "execution_count": 36,
   "metadata": {},
   "outputs": [
    {
     "data": {
      "text/plain": [
       "array([-0.10658702, -0.10658702, -0.10658702, -0.10658702, -0.10658702,\n",
       "       -0.10658702])"
      ]
     },
     "execution_count": 36,
     "metadata": {},
     "output_type": "execute_result"
    }
   ],
   "source": [
    "known_face_encodings"
   ]
  },
  {
   "cell_type": "code",
   "execution_count": null,
   "metadata": {},
   "outputs": [],
   "source": []
  },
  {
   "cell_type": "code",
   "execution_count": null,
   "metadata": {},
   "outputs": [],
   "source": []
  }
 ],
 "metadata": {
  "kernelspec": {
   "display_name": "Python 3",
   "language": "python",
   "name": "python3"
  },
  "language_info": {
   "codemirror_mode": {
    "name": "ipython",
    "version": 3
   },
   "file_extension": ".py",
   "mimetype": "text/x-python",
   "name": "python",
   "nbconvert_exporter": "python",
   "pygments_lexer": "ipython3",
   "version": "3.6.4"
  }
 },
 "nbformat": 4,
 "nbformat_minor": 2
}
